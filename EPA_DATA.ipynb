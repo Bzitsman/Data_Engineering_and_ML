{
  "cells": [
    {
      "cell_type": "markdown",
      "metadata": {
        "id": "view-in-github",
        "colab_type": "text"
      },
      "source": [
        "<a href=\"https://colab.research.google.com/github/Bzitsman/Data_Engineering_and_ML/blob/main/EPA_DATA.ipynb\" target=\"_parent\"><img src=\"https://colab.research.google.com/assets/colab-badge.svg\" alt=\"Open In Colab\"/></a>"
      ]
    },
    {
      "cell_type": "markdown",
      "metadata": {
        "id": "9HYKQFUbTX8V"
      },
      "source": [
        "# Explore descriptive statistics with EPA Data"
      ],
      "id": "9HYKQFUbTX8V"
    },
    {
      "cell_type": "markdown",
      "metadata": {
        "id": "ee31943b-274e-4c28-bce6-155cb6f4c334"
      },
      "source": [
        "## **Introduction**\n",
        "This project is just focused on working with basic statistics to look at data.\n",
        "\n",
        "> The United States Environmental Protection Agency (EPA) collects data on air quality with respect to carbon monoxide, a major air pollutant. The dataset I will be using includes information from more than 200 sites, that is identified by state, county, city, and local site names. I will use Python functions to gather statistics about air quality, then share my insights with."
      ],
      "id": "ee31943b-274e-4c28-bce6-155cb6f4c334"
    },
    {
      "cell_type": "markdown",
      "source": [
        "The following step is only needed if you have the csv file saved in your google drive and are using google colab to access it. The code mounts your drive."
      ],
      "metadata": {
        "id": "u7ZGCHZnMuwE"
      },
      "id": "u7ZGCHZnMuwE"
    },
    {
      "cell_type": "code",
      "source": [
        "from google.colab import drive\n",
        "drive.mount('/content/drive')"
      ],
      "metadata": {
        "colab": {
          "base_uri": "https://localhost:8080/"
        },
        "id": "VDJOuBE4HDhH",
        "outputId": "dbb7b8de-844d-46e5-c069-ae15db0d2607"
      },
      "id": "VDJOuBE4HDhH",
      "execution_count": 1,
      "outputs": [
        {
          "output_type": "stream",
          "name": "stdout",
          "text": [
            "Mounted at /content/drive\n"
          ]
        }
      ]
    },
    {
      "cell_type": "markdown",
      "metadata": {
        "id": "4bb9630e-b940-4835-a389-d39def1fa848"
      },
      "source": [
        "## **Step 1: Imports** \n"
      ],
      "id": "4bb9630e-b940-4835-a389-d39def1fa848"
    },
    {
      "cell_type": "markdown",
      "metadata": {
        "id": "bc180686-4ae2-47ea-a292-3588ac60a820"
      },
      "source": [
        "Import the relevant Python libraries `pandas`, `numpy`, `matplotlib.pyplot`, and `seaborn` "
      ],
      "id": "bc180686-4ae2-47ea-a292-3588ac60a820"
    },
    {
      "cell_type": "code",
      "execution_count": 3,
      "metadata": {
        "id": "8e7f1f2c-bbcc-4f3c-b927-b090ee8334c4"
      },
      "outputs": [],
      "source": [
        "# Import relevant Python libraries.\n",
        "\n",
        "import numpy as np\n",
        "import pandas as pd\n",
        "\n",
        "# for visulizations \n",
        "import matplotlib.pyplot as plt\n",
        "import seaborn as sns"
      ],
      "id": "8e7f1f2c-bbcc-4f3c-b927-b090ee8334c4"
    },
    {
      "cell_type": "markdown",
      "metadata": {
        "id": "7d29c6bd-f194-46bb-b794-56dc20130473"
      },
      "source": [
        "> The dataset provided is in the form of a .csv file named `c4_epa_air_quality.csv`. It contains a susbet of data from the U.S. EPA. "
      ],
      "id": "7d29c6bd-f194-46bb-b794-56dc20130473"
    },
    {
      "cell_type": "code",
      "execution_count": 4,
      "metadata": {
        "id": "3bd40d44-080f-4e49-b0c2-160dedc3c4df",
        "outputId": "95429ad9-bbcc-4361-9036-be112c24a0c2",
        "colab": {
          "base_uri": "https://localhost:8080/",
          "height": 206
        }
      },
      "outputs": [
        {
          "output_type": "execute_result",
          "data": {
            "text/plain": [
              "   date_local    state_name   county_name      city_name  \\\n",
              "0  2018-01-01       Arizona      Maricopa        Buckeye   \n",
              "1  2018-01-01          Ohio       Belmont      Shadyside   \n",
              "2  2018-01-01       Wyoming         Teton  Not in a city   \n",
              "3  2018-01-01  Pennsylvania  Philadelphia   Philadelphia   \n",
              "4  2018-01-01          Iowa          Polk     Des Moines   \n",
              "\n",
              "                                     local_site_name   parameter_name  \\\n",
              "0                                            BUCKEYE  Carbon monoxide   \n",
              "1                                          Shadyside  Carbon monoxide   \n",
              "2  Yellowstone National Park - Old Faithful Snow ...  Carbon monoxide   \n",
              "3                             North East Waste (NEW)  Carbon monoxide   \n",
              "4                                          CARPENTER  Carbon monoxide   \n",
              "\n",
              "    units_of_measure  arithmetic_mean  aqi  \n",
              "0  Parts per million         0.473684    7  \n",
              "1  Parts per million         0.263158    5  \n",
              "2  Parts per million         0.111111    2  \n",
              "3  Parts per million         0.300000    3  \n",
              "4  Parts per million         0.215789    3  "
            ],
            "text/html": [
              "\n",
              "  <div id=\"df-bbd8b835-6b13-4909-9ce1-6a70db06cae5\">\n",
              "    <div class=\"colab-df-container\">\n",
              "      <div>\n",
              "<style scoped>\n",
              "    .dataframe tbody tr th:only-of-type {\n",
              "        vertical-align: middle;\n",
              "    }\n",
              "\n",
              "    .dataframe tbody tr th {\n",
              "        vertical-align: top;\n",
              "    }\n",
              "\n",
              "    .dataframe thead th {\n",
              "        text-align: right;\n",
              "    }\n",
              "</style>\n",
              "<table border=\"1\" class=\"dataframe\">\n",
              "  <thead>\n",
              "    <tr style=\"text-align: right;\">\n",
              "      <th></th>\n",
              "      <th>date_local</th>\n",
              "      <th>state_name</th>\n",
              "      <th>county_name</th>\n",
              "      <th>city_name</th>\n",
              "      <th>local_site_name</th>\n",
              "      <th>parameter_name</th>\n",
              "      <th>units_of_measure</th>\n",
              "      <th>arithmetic_mean</th>\n",
              "      <th>aqi</th>\n",
              "    </tr>\n",
              "  </thead>\n",
              "  <tbody>\n",
              "    <tr>\n",
              "      <th>0</th>\n",
              "      <td>2018-01-01</td>\n",
              "      <td>Arizona</td>\n",
              "      <td>Maricopa</td>\n",
              "      <td>Buckeye</td>\n",
              "      <td>BUCKEYE</td>\n",
              "      <td>Carbon monoxide</td>\n",
              "      <td>Parts per million</td>\n",
              "      <td>0.473684</td>\n",
              "      <td>7</td>\n",
              "    </tr>\n",
              "    <tr>\n",
              "      <th>1</th>\n",
              "      <td>2018-01-01</td>\n",
              "      <td>Ohio</td>\n",
              "      <td>Belmont</td>\n",
              "      <td>Shadyside</td>\n",
              "      <td>Shadyside</td>\n",
              "      <td>Carbon monoxide</td>\n",
              "      <td>Parts per million</td>\n",
              "      <td>0.263158</td>\n",
              "      <td>5</td>\n",
              "    </tr>\n",
              "    <tr>\n",
              "      <th>2</th>\n",
              "      <td>2018-01-01</td>\n",
              "      <td>Wyoming</td>\n",
              "      <td>Teton</td>\n",
              "      <td>Not in a city</td>\n",
              "      <td>Yellowstone National Park - Old Faithful Snow ...</td>\n",
              "      <td>Carbon monoxide</td>\n",
              "      <td>Parts per million</td>\n",
              "      <td>0.111111</td>\n",
              "      <td>2</td>\n",
              "    </tr>\n",
              "    <tr>\n",
              "      <th>3</th>\n",
              "      <td>2018-01-01</td>\n",
              "      <td>Pennsylvania</td>\n",
              "      <td>Philadelphia</td>\n",
              "      <td>Philadelphia</td>\n",
              "      <td>North East Waste (NEW)</td>\n",
              "      <td>Carbon monoxide</td>\n",
              "      <td>Parts per million</td>\n",
              "      <td>0.300000</td>\n",
              "      <td>3</td>\n",
              "    </tr>\n",
              "    <tr>\n",
              "      <th>4</th>\n",
              "      <td>2018-01-01</td>\n",
              "      <td>Iowa</td>\n",
              "      <td>Polk</td>\n",
              "      <td>Des Moines</td>\n",
              "      <td>CARPENTER</td>\n",
              "      <td>Carbon monoxide</td>\n",
              "      <td>Parts per million</td>\n",
              "      <td>0.215789</td>\n",
              "      <td>3</td>\n",
              "    </tr>\n",
              "  </tbody>\n",
              "</table>\n",
              "</div>\n",
              "      <button class=\"colab-df-convert\" onclick=\"convertToInteractive('df-bbd8b835-6b13-4909-9ce1-6a70db06cae5')\"\n",
              "              title=\"Convert this dataframe to an interactive table.\"\n",
              "              style=\"display:none;\">\n",
              "        \n",
              "  <svg xmlns=\"http://www.w3.org/2000/svg\" height=\"24px\"viewBox=\"0 0 24 24\"\n",
              "       width=\"24px\">\n",
              "    <path d=\"M0 0h24v24H0V0z\" fill=\"none\"/>\n",
              "    <path d=\"M18.56 5.44l.94 2.06.94-2.06 2.06-.94-2.06-.94-.94-2.06-.94 2.06-2.06.94zm-11 1L8.5 8.5l.94-2.06 2.06-.94-2.06-.94L8.5 2.5l-.94 2.06-2.06.94zm10 10l.94 2.06.94-2.06 2.06-.94-2.06-.94-.94-2.06-.94 2.06-2.06.94z\"/><path d=\"M17.41 7.96l-1.37-1.37c-.4-.4-.92-.59-1.43-.59-.52 0-1.04.2-1.43.59L10.3 9.45l-7.72 7.72c-.78.78-.78 2.05 0 2.83L4 21.41c.39.39.9.59 1.41.59.51 0 1.02-.2 1.41-.59l7.78-7.78 2.81-2.81c.8-.78.8-2.07 0-2.86zM5.41 20L4 18.59l7.72-7.72 1.47 1.35L5.41 20z\"/>\n",
              "  </svg>\n",
              "      </button>\n",
              "      \n",
              "  <style>\n",
              "    .colab-df-container {\n",
              "      display:flex;\n",
              "      flex-wrap:wrap;\n",
              "      gap: 12px;\n",
              "    }\n",
              "\n",
              "    .colab-df-convert {\n",
              "      background-color: #E8F0FE;\n",
              "      border: none;\n",
              "      border-radius: 50%;\n",
              "      cursor: pointer;\n",
              "      display: none;\n",
              "      fill: #1967D2;\n",
              "      height: 32px;\n",
              "      padding: 0 0 0 0;\n",
              "      width: 32px;\n",
              "    }\n",
              "\n",
              "    .colab-df-convert:hover {\n",
              "      background-color: #E2EBFA;\n",
              "      box-shadow: 0px 1px 2px rgba(60, 64, 67, 0.3), 0px 1px 3px 1px rgba(60, 64, 67, 0.15);\n",
              "      fill: #174EA6;\n",
              "    }\n",
              "\n",
              "    [theme=dark] .colab-df-convert {\n",
              "      background-color: #3B4455;\n",
              "      fill: #D2E3FC;\n",
              "    }\n",
              "\n",
              "    [theme=dark] .colab-df-convert:hover {\n",
              "      background-color: #434B5C;\n",
              "      box-shadow: 0px 1px 3px 1px rgba(0, 0, 0, 0.15);\n",
              "      filter: drop-shadow(0px 1px 2px rgba(0, 0, 0, 0.3));\n",
              "      fill: #FFFFFF;\n",
              "    }\n",
              "  </style>\n",
              "\n",
              "      <script>\n",
              "        const buttonEl =\n",
              "          document.querySelector('#df-bbd8b835-6b13-4909-9ce1-6a70db06cae5 button.colab-df-convert');\n",
              "        buttonEl.style.display =\n",
              "          google.colab.kernel.accessAllowed ? 'block' : 'none';\n",
              "\n",
              "        async function convertToInteractive(key) {\n",
              "          const element = document.querySelector('#df-bbd8b835-6b13-4909-9ce1-6a70db06cae5');\n",
              "          const dataTable =\n",
              "            await google.colab.kernel.invokeFunction('convertToInteractive',\n",
              "                                                     [key], {});\n",
              "          if (!dataTable) return;\n",
              "\n",
              "          const docLinkHtml = 'Like what you see? Visit the ' +\n",
              "            '<a target=\"_blank\" href=https://colab.research.google.com/notebooks/data_table.ipynb>data table notebook</a>'\n",
              "            + ' to learn more about interactive tables.';\n",
              "          element.innerHTML = '';\n",
              "          dataTable['output_type'] = 'display_data';\n",
              "          await google.colab.output.renderOutput(dataTable, element);\n",
              "          const docLink = document.createElement('div');\n",
              "          docLink.innerHTML = docLinkHtml;\n",
              "          element.appendChild(docLink);\n",
              "        }\n",
              "      </script>\n",
              "    </div>\n",
              "  </div>\n",
              "  "
            ]
          },
          "metadata": {},
          "execution_count": 4
        }
      ],
      "source": [
        "# IMPORT YOUR DATA.\n",
        "\n",
        "\n",
        "epa_data = pd.read_csv(\"/content/drive/MyDrive/Power of Statics GOOGLE DATA CERT/c4_epa_air_quality.csv\", index_col = 0)\n",
        "epa_data.head()"
      ],
      "id": "3bd40d44-080f-4e49-b0c2-160dedc3c4df"
    },
    {
      "cell_type": "markdown",
      "metadata": {
        "id": "95bf39c9-d05c-4324-a40b-bc692607b61b"
      },
      "source": [
        "## **Step 2: Data exploration** "
      ],
      "id": "95bf39c9-d05c-4324-a40b-bc692607b61b"
    },
    {
      "cell_type": "code",
      "execution_count": null,
      "metadata": {
        "id": "ad5210a5-7a64-4991-b004-de818cfaf506",
        "outputId": "630f99c9-bfe8-40ab-e868-ae689d674b07",
        "colab": {
          "base_uri": "https://localhost:8080/",
          "height": 363
        }
      },
      "outputs": [
        {
          "output_type": "execute_result",
          "data": {
            "text/plain": [
              "   date_local    state_name   county_name      city_name  \\\n",
              "0  2018-01-01       Arizona      Maricopa        Buckeye   \n",
              "1  2018-01-01          Ohio       Belmont      Shadyside   \n",
              "2  2018-01-01       Wyoming         Teton  Not in a city   \n",
              "3  2018-01-01  Pennsylvania  Philadelphia   Philadelphia   \n",
              "4  2018-01-01          Iowa          Polk     Des Moines   \n",
              "5  2018-01-01        Hawaii      Honolulu  Not in a city   \n",
              "6  2018-01-01        Hawaii      Honolulu  Not in a city   \n",
              "7  2018-01-01  Pennsylvania          Erie           Erie   \n",
              "8  2018-01-01        Hawaii      Honolulu       Honolulu   \n",
              "9  2018-01-01      Colorado       Larimer   Fort Collins   \n",
              "\n",
              "                                     local_site_name   parameter_name  \\\n",
              "0                                            BUCKEYE  Carbon monoxide   \n",
              "1                                          Shadyside  Carbon monoxide   \n",
              "2  Yellowstone National Park - Old Faithful Snow ...  Carbon monoxide   \n",
              "3                             North East Waste (NEW)  Carbon monoxide   \n",
              "4                                          CARPENTER  Carbon monoxide   \n",
              "5                                            Kapolei  Carbon monoxide   \n",
              "6                                            Kapolei  Carbon monoxide   \n",
              "7                                                NaN  Carbon monoxide   \n",
              "8                                           Honolulu  Carbon monoxide   \n",
              "9                      Fort Collins - CSU - S. Mason  Carbon monoxide   \n",
              "\n",
              "    units_of_measure  arithmetic_mean  aqi  \n",
              "0  Parts per million         0.473684    7  \n",
              "1  Parts per million         0.263158    5  \n",
              "2  Parts per million         0.111111    2  \n",
              "3  Parts per million         0.300000    3  \n",
              "4  Parts per million         0.215789    3  \n",
              "5  Parts per million         0.994737   14  \n",
              "6  Parts per million         0.200000    2  \n",
              "7  Parts per million         0.200000    2  \n",
              "8  Parts per million         0.400000    5  \n",
              "9  Parts per million         0.300000    6  "
            ],
            "text/html": [
              "\n",
              "  <div id=\"df-5b02167d-cf0e-450f-8947-98832d8dc0fd\">\n",
              "    <div class=\"colab-df-container\">\n",
              "      <div>\n",
              "<style scoped>\n",
              "    .dataframe tbody tr th:only-of-type {\n",
              "        vertical-align: middle;\n",
              "    }\n",
              "\n",
              "    .dataframe tbody tr th {\n",
              "        vertical-align: top;\n",
              "    }\n",
              "\n",
              "    .dataframe thead th {\n",
              "        text-align: right;\n",
              "    }\n",
              "</style>\n",
              "<table border=\"1\" class=\"dataframe\">\n",
              "  <thead>\n",
              "    <tr style=\"text-align: right;\">\n",
              "      <th></th>\n",
              "      <th>date_local</th>\n",
              "      <th>state_name</th>\n",
              "      <th>county_name</th>\n",
              "      <th>city_name</th>\n",
              "      <th>local_site_name</th>\n",
              "      <th>parameter_name</th>\n",
              "      <th>units_of_measure</th>\n",
              "      <th>arithmetic_mean</th>\n",
              "      <th>aqi</th>\n",
              "    </tr>\n",
              "  </thead>\n",
              "  <tbody>\n",
              "    <tr>\n",
              "      <th>0</th>\n",
              "      <td>2018-01-01</td>\n",
              "      <td>Arizona</td>\n",
              "      <td>Maricopa</td>\n",
              "      <td>Buckeye</td>\n",
              "      <td>BUCKEYE</td>\n",
              "      <td>Carbon monoxide</td>\n",
              "      <td>Parts per million</td>\n",
              "      <td>0.473684</td>\n",
              "      <td>7</td>\n",
              "    </tr>\n",
              "    <tr>\n",
              "      <th>1</th>\n",
              "      <td>2018-01-01</td>\n",
              "      <td>Ohio</td>\n",
              "      <td>Belmont</td>\n",
              "      <td>Shadyside</td>\n",
              "      <td>Shadyside</td>\n",
              "      <td>Carbon monoxide</td>\n",
              "      <td>Parts per million</td>\n",
              "      <td>0.263158</td>\n",
              "      <td>5</td>\n",
              "    </tr>\n",
              "    <tr>\n",
              "      <th>2</th>\n",
              "      <td>2018-01-01</td>\n",
              "      <td>Wyoming</td>\n",
              "      <td>Teton</td>\n",
              "      <td>Not in a city</td>\n",
              "      <td>Yellowstone National Park - Old Faithful Snow ...</td>\n",
              "      <td>Carbon monoxide</td>\n",
              "      <td>Parts per million</td>\n",
              "      <td>0.111111</td>\n",
              "      <td>2</td>\n",
              "    </tr>\n",
              "    <tr>\n",
              "      <th>3</th>\n",
              "      <td>2018-01-01</td>\n",
              "      <td>Pennsylvania</td>\n",
              "      <td>Philadelphia</td>\n",
              "      <td>Philadelphia</td>\n",
              "      <td>North East Waste (NEW)</td>\n",
              "      <td>Carbon monoxide</td>\n",
              "      <td>Parts per million</td>\n",
              "      <td>0.300000</td>\n",
              "      <td>3</td>\n",
              "    </tr>\n",
              "    <tr>\n",
              "      <th>4</th>\n",
              "      <td>2018-01-01</td>\n",
              "      <td>Iowa</td>\n",
              "      <td>Polk</td>\n",
              "      <td>Des Moines</td>\n",
              "      <td>CARPENTER</td>\n",
              "      <td>Carbon monoxide</td>\n",
              "      <td>Parts per million</td>\n",
              "      <td>0.215789</td>\n",
              "      <td>3</td>\n",
              "    </tr>\n",
              "    <tr>\n",
              "      <th>5</th>\n",
              "      <td>2018-01-01</td>\n",
              "      <td>Hawaii</td>\n",
              "      <td>Honolulu</td>\n",
              "      <td>Not in a city</td>\n",
              "      <td>Kapolei</td>\n",
              "      <td>Carbon monoxide</td>\n",
              "      <td>Parts per million</td>\n",
              "      <td>0.994737</td>\n",
              "      <td>14</td>\n",
              "    </tr>\n",
              "    <tr>\n",
              "      <th>6</th>\n",
              "      <td>2018-01-01</td>\n",
              "      <td>Hawaii</td>\n",
              "      <td>Honolulu</td>\n",
              "      <td>Not in a city</td>\n",
              "      <td>Kapolei</td>\n",
              "      <td>Carbon monoxide</td>\n",
              "      <td>Parts per million</td>\n",
              "      <td>0.200000</td>\n",
              "      <td>2</td>\n",
              "    </tr>\n",
              "    <tr>\n",
              "      <th>7</th>\n",
              "      <td>2018-01-01</td>\n",
              "      <td>Pennsylvania</td>\n",
              "      <td>Erie</td>\n",
              "      <td>Erie</td>\n",
              "      <td>NaN</td>\n",
              "      <td>Carbon monoxide</td>\n",
              "      <td>Parts per million</td>\n",
              "      <td>0.200000</td>\n",
              "      <td>2</td>\n",
              "    </tr>\n",
              "    <tr>\n",
              "      <th>8</th>\n",
              "      <td>2018-01-01</td>\n",
              "      <td>Hawaii</td>\n",
              "      <td>Honolulu</td>\n",
              "      <td>Honolulu</td>\n",
              "      <td>Honolulu</td>\n",
              "      <td>Carbon monoxide</td>\n",
              "      <td>Parts per million</td>\n",
              "      <td>0.400000</td>\n",
              "      <td>5</td>\n",
              "    </tr>\n",
              "    <tr>\n",
              "      <th>9</th>\n",
              "      <td>2018-01-01</td>\n",
              "      <td>Colorado</td>\n",
              "      <td>Larimer</td>\n",
              "      <td>Fort Collins</td>\n",
              "      <td>Fort Collins - CSU - S. Mason</td>\n",
              "      <td>Carbon monoxide</td>\n",
              "      <td>Parts per million</td>\n",
              "      <td>0.300000</td>\n",
              "      <td>6</td>\n",
              "    </tr>\n",
              "  </tbody>\n",
              "</table>\n",
              "</div>\n",
              "      <button class=\"colab-df-convert\" onclick=\"convertToInteractive('df-5b02167d-cf0e-450f-8947-98832d8dc0fd')\"\n",
              "              title=\"Convert this dataframe to an interactive table.\"\n",
              "              style=\"display:none;\">\n",
              "        \n",
              "  <svg xmlns=\"http://www.w3.org/2000/svg\" height=\"24px\"viewBox=\"0 0 24 24\"\n",
              "       width=\"24px\">\n",
              "    <path d=\"M0 0h24v24H0V0z\" fill=\"none\"/>\n",
              "    <path d=\"M18.56 5.44l.94 2.06.94-2.06 2.06-.94-2.06-.94-.94-2.06-.94 2.06-2.06.94zm-11 1L8.5 8.5l.94-2.06 2.06-.94-2.06-.94L8.5 2.5l-.94 2.06-2.06.94zm10 10l.94 2.06.94-2.06 2.06-.94-2.06-.94-.94-2.06-.94 2.06-2.06.94z\"/><path d=\"M17.41 7.96l-1.37-1.37c-.4-.4-.92-.59-1.43-.59-.52 0-1.04.2-1.43.59L10.3 9.45l-7.72 7.72c-.78.78-.78 2.05 0 2.83L4 21.41c.39.39.9.59 1.41.59.51 0 1.02-.2 1.41-.59l7.78-7.78 2.81-2.81c.8-.78.8-2.07 0-2.86zM5.41 20L4 18.59l7.72-7.72 1.47 1.35L5.41 20z\"/>\n",
              "  </svg>\n",
              "      </button>\n",
              "      \n",
              "  <style>\n",
              "    .colab-df-container {\n",
              "      display:flex;\n",
              "      flex-wrap:wrap;\n",
              "      gap: 12px;\n",
              "    }\n",
              "\n",
              "    .colab-df-convert {\n",
              "      background-color: #E8F0FE;\n",
              "      border: none;\n",
              "      border-radius: 50%;\n",
              "      cursor: pointer;\n",
              "      display: none;\n",
              "      fill: #1967D2;\n",
              "      height: 32px;\n",
              "      padding: 0 0 0 0;\n",
              "      width: 32px;\n",
              "    }\n",
              "\n",
              "    .colab-df-convert:hover {\n",
              "      background-color: #E2EBFA;\n",
              "      box-shadow: 0px 1px 2px rgba(60, 64, 67, 0.3), 0px 1px 3px 1px rgba(60, 64, 67, 0.15);\n",
              "      fill: #174EA6;\n",
              "    }\n",
              "\n",
              "    [theme=dark] .colab-df-convert {\n",
              "      background-color: #3B4455;\n",
              "      fill: #D2E3FC;\n",
              "    }\n",
              "\n",
              "    [theme=dark] .colab-df-convert:hover {\n",
              "      background-color: #434B5C;\n",
              "      box-shadow: 0px 1px 3px 1px rgba(0, 0, 0, 0.15);\n",
              "      filter: drop-shadow(0px 1px 2px rgba(0, 0, 0, 0.3));\n",
              "      fill: #FFFFFF;\n",
              "    }\n",
              "  </style>\n",
              "\n",
              "      <script>\n",
              "        const buttonEl =\n",
              "          document.querySelector('#df-5b02167d-cf0e-450f-8947-98832d8dc0fd button.colab-df-convert');\n",
              "        buttonEl.style.display =\n",
              "          google.colab.kernel.accessAllowed ? 'block' : 'none';\n",
              "\n",
              "        async function convertToInteractive(key) {\n",
              "          const element = document.querySelector('#df-5b02167d-cf0e-450f-8947-98832d8dc0fd');\n",
              "          const dataTable =\n",
              "            await google.colab.kernel.invokeFunction('convertToInteractive',\n",
              "                                                     [key], {});\n",
              "          if (!dataTable) return;\n",
              "\n",
              "          const docLinkHtml = 'Like what you see? Visit the ' +\n",
              "            '<a target=\"_blank\" href=https://colab.research.google.com/notebooks/data_table.ipynb>data table notebook</a>'\n",
              "            + ' to learn more about interactive tables.';\n",
              "          element.innerHTML = '';\n",
              "          dataTable['output_type'] = 'display_data';\n",
              "          await google.colab.output.renderOutput(dataTable, element);\n",
              "          const docLink = document.createElement('div');\n",
              "          docLink.innerHTML = docLinkHtml;\n",
              "          element.appendChild(docLink);\n",
              "        }\n",
              "      </script>\n",
              "    </div>\n",
              "  </div>\n",
              "  "
            ]
          },
          "metadata": {},
          "execution_count": 7
        }
      ],
      "source": [
        "# Display first 10 rows of the data.\n",
        "\n",
        "epa_data.head(10)"
      ],
      "id": "ad5210a5-7a64-4991-b004-de818cfaf506"
    },
    {
      "cell_type": "markdown",
      "metadata": {
        "id": "fb45ed17-5e22-4d48-9750-130a8586bbf9",
        "tags": []
      },
      "source": [
        "**Question:** What does the `aqi` column represent?"
      ],
      "id": "fb45ed17-5e22-4d48-9750-130a8586bbf9"
    },
    {
      "cell_type": "markdown",
      "metadata": {
        "id": "MlpXJ36xpBFP"
      },
      "source": [
        "> AQI stands for Air Qualit Index and it is a measurement of pollution in the Air"
      ],
      "id": "MlpXJ36xpBFP"
    },
    {
      "cell_type": "markdown",
      "metadata": {
        "id": "68dc9b73-8944-4dd6-b2f8-6879717a7dab",
        "tags": []
      },
      "source": [
        "**Question:** In what units are the aqi values expressed?"
      ],
      "id": "68dc9b73-8944-4dd6-b2f8-6879717a7dab"
    },
    {
      "cell_type": "markdown",
      "metadata": {
        "id": "sksDtH6xpB8c"
      },
      "source": [
        "> The AQI values are measured in parts per million"
      ],
      "id": "sksDtH6xpB8c"
    },
    {
      "cell_type": "markdown",
      "source": [
        "##  Descriptive Statistics"
      ],
      "metadata": {
        "id": "LtRIGVYJA6kT"
      },
      "id": "LtRIGVYJA6kT"
    },
    {
      "cell_type": "markdown",
      "metadata": {
        "id": "7dac147e-19e1-49e7-bd80-e122390c3a70",
        "tags": []
      },
      "source": [
        "> Now, I will run some codes to get descriptive statistics about the data but first I like to run the .info() function, which is used to print a concise summary of a data frame. This method prints information about a DataFrame including the index dtype and column dtypes, non-null values and memory usage."
      ],
      "id": "7dac147e-19e1-49e7-bd80-e122390c3a70"
    },
    {
      "cell_type": "code",
      "source": [
        "epa_data.info()"
      ],
      "metadata": {
        "colab": {
          "base_uri": "https://localhost:8080/"
        },
        "id": "GW7RZQu5HrKP",
        "outputId": "0d0e0063-fd72-4eaa-acf2-b0601b18d0c0"
      },
      "id": "GW7RZQu5HrKP",
      "execution_count": 5,
      "outputs": [
        {
          "output_type": "stream",
          "name": "stdout",
          "text": [
            "<class 'pandas.core.frame.DataFrame'>\n",
            "Int64Index: 260 entries, 0 to 259\n",
            "Data columns (total 9 columns):\n",
            " #   Column            Non-Null Count  Dtype  \n",
            "---  ------            --------------  -----  \n",
            " 0   date_local        260 non-null    object \n",
            " 1   state_name        260 non-null    object \n",
            " 2   county_name       260 non-null    object \n",
            " 3   city_name         260 non-null    object \n",
            " 4   local_site_name   257 non-null    object \n",
            " 5   parameter_name    260 non-null    object \n",
            " 6   units_of_measure  260 non-null    object \n",
            " 7   arithmetic_mean   260 non-null    float64\n",
            " 8   aqi               260 non-null    int64  \n",
            "dtypes: float64(1), int64(1), object(7)\n",
            "memory usage: 20.3+ KB\n"
          ]
        }
      ]
    },
    {
      "cell_type": "code",
      "execution_count": 6,
      "metadata": {
        "id": "13f1c1dd-5637-4726-8fa0-2fbd838e4afa",
        "outputId": "56c96360-8328-4bbc-f368-131225a35747",
        "colab": {
          "base_uri": "https://localhost:8080/",
          "height": 300
        }
      },
      "outputs": [
        {
          "output_type": "execute_result",
          "data": {
            "text/plain": [
              "       arithmetic_mean         aqi\n",
              "count       260.000000  260.000000\n",
              "mean          0.403169    6.757692\n",
              "std           0.317902    7.061707\n",
              "min           0.000000    0.000000\n",
              "25%           0.200000    2.000000\n",
              "50%           0.276315    5.000000\n",
              "75%           0.516009    9.000000\n",
              "max           1.921053   50.000000"
            ],
            "text/html": [
              "\n",
              "  <div id=\"df-2b38fc19-9ccb-4b39-a006-7eec890f104d\">\n",
              "    <div class=\"colab-df-container\">\n",
              "      <div>\n",
              "<style scoped>\n",
              "    .dataframe tbody tr th:only-of-type {\n",
              "        vertical-align: middle;\n",
              "    }\n",
              "\n",
              "    .dataframe tbody tr th {\n",
              "        vertical-align: top;\n",
              "    }\n",
              "\n",
              "    .dataframe thead th {\n",
              "        text-align: right;\n",
              "    }\n",
              "</style>\n",
              "<table border=\"1\" class=\"dataframe\">\n",
              "  <thead>\n",
              "    <tr style=\"text-align: right;\">\n",
              "      <th></th>\n",
              "      <th>arithmetic_mean</th>\n",
              "      <th>aqi</th>\n",
              "    </tr>\n",
              "  </thead>\n",
              "  <tbody>\n",
              "    <tr>\n",
              "      <th>count</th>\n",
              "      <td>260.000000</td>\n",
              "      <td>260.000000</td>\n",
              "    </tr>\n",
              "    <tr>\n",
              "      <th>mean</th>\n",
              "      <td>0.403169</td>\n",
              "      <td>6.757692</td>\n",
              "    </tr>\n",
              "    <tr>\n",
              "      <th>std</th>\n",
              "      <td>0.317902</td>\n",
              "      <td>7.061707</td>\n",
              "    </tr>\n",
              "    <tr>\n",
              "      <th>min</th>\n",
              "      <td>0.000000</td>\n",
              "      <td>0.000000</td>\n",
              "    </tr>\n",
              "    <tr>\n",
              "      <th>25%</th>\n",
              "      <td>0.200000</td>\n",
              "      <td>2.000000</td>\n",
              "    </tr>\n",
              "    <tr>\n",
              "      <th>50%</th>\n",
              "      <td>0.276315</td>\n",
              "      <td>5.000000</td>\n",
              "    </tr>\n",
              "    <tr>\n",
              "      <th>75%</th>\n",
              "      <td>0.516009</td>\n",
              "      <td>9.000000</td>\n",
              "    </tr>\n",
              "    <tr>\n",
              "      <th>max</th>\n",
              "      <td>1.921053</td>\n",
              "      <td>50.000000</td>\n",
              "    </tr>\n",
              "  </tbody>\n",
              "</table>\n",
              "</div>\n",
              "      <button class=\"colab-df-convert\" onclick=\"convertToInteractive('df-2b38fc19-9ccb-4b39-a006-7eec890f104d')\"\n",
              "              title=\"Convert this dataframe to an interactive table.\"\n",
              "              style=\"display:none;\">\n",
              "        \n",
              "  <svg xmlns=\"http://www.w3.org/2000/svg\" height=\"24px\"viewBox=\"0 0 24 24\"\n",
              "       width=\"24px\">\n",
              "    <path d=\"M0 0h24v24H0V0z\" fill=\"none\"/>\n",
              "    <path d=\"M18.56 5.44l.94 2.06.94-2.06 2.06-.94-2.06-.94-.94-2.06-.94 2.06-2.06.94zm-11 1L8.5 8.5l.94-2.06 2.06-.94-2.06-.94L8.5 2.5l-.94 2.06-2.06.94zm10 10l.94 2.06.94-2.06 2.06-.94-2.06-.94-.94-2.06-.94 2.06-2.06.94z\"/><path d=\"M17.41 7.96l-1.37-1.37c-.4-.4-.92-.59-1.43-.59-.52 0-1.04.2-1.43.59L10.3 9.45l-7.72 7.72c-.78.78-.78 2.05 0 2.83L4 21.41c.39.39.9.59 1.41.59.51 0 1.02-.2 1.41-.59l7.78-7.78 2.81-2.81c.8-.78.8-2.07 0-2.86zM5.41 20L4 18.59l7.72-7.72 1.47 1.35L5.41 20z\"/>\n",
              "  </svg>\n",
              "      </button>\n",
              "      \n",
              "  <style>\n",
              "    .colab-df-container {\n",
              "      display:flex;\n",
              "      flex-wrap:wrap;\n",
              "      gap: 12px;\n",
              "    }\n",
              "\n",
              "    .colab-df-convert {\n",
              "      background-color: #E8F0FE;\n",
              "      border: none;\n",
              "      border-radius: 50%;\n",
              "      cursor: pointer;\n",
              "      display: none;\n",
              "      fill: #1967D2;\n",
              "      height: 32px;\n",
              "      padding: 0 0 0 0;\n",
              "      width: 32px;\n",
              "    }\n",
              "\n",
              "    .colab-df-convert:hover {\n",
              "      background-color: #E2EBFA;\n",
              "      box-shadow: 0px 1px 2px rgba(60, 64, 67, 0.3), 0px 1px 3px 1px rgba(60, 64, 67, 0.15);\n",
              "      fill: #174EA6;\n",
              "    }\n",
              "\n",
              "    [theme=dark] .colab-df-convert {\n",
              "      background-color: #3B4455;\n",
              "      fill: #D2E3FC;\n",
              "    }\n",
              "\n",
              "    [theme=dark] .colab-df-convert:hover {\n",
              "      background-color: #434B5C;\n",
              "      box-shadow: 0px 1px 3px 1px rgba(0, 0, 0, 0.15);\n",
              "      filter: drop-shadow(0px 1px 2px rgba(0, 0, 0, 0.3));\n",
              "      fill: #FFFFFF;\n",
              "    }\n",
              "  </style>\n",
              "\n",
              "      <script>\n",
              "        const buttonEl =\n",
              "          document.querySelector('#df-2b38fc19-9ccb-4b39-a006-7eec890f104d button.colab-df-convert');\n",
              "        buttonEl.style.display =\n",
              "          google.colab.kernel.accessAllowed ? 'block' : 'none';\n",
              "\n",
              "        async function convertToInteractive(key) {\n",
              "          const element = document.querySelector('#df-2b38fc19-9ccb-4b39-a006-7eec890f104d');\n",
              "          const dataTable =\n",
              "            await google.colab.kernel.invokeFunction('convertToInteractive',\n",
              "                                                     [key], {});\n",
              "          if (!dataTable) return;\n",
              "\n",
              "          const docLinkHtml = 'Like what you see? Visit the ' +\n",
              "            '<a target=\"_blank\" href=https://colab.research.google.com/notebooks/data_table.ipynb>data table notebook</a>'\n",
              "            + ' to learn more about interactive tables.';\n",
              "          element.innerHTML = '';\n",
              "          dataTable['output_type'] = 'display_data';\n",
              "          await google.colab.output.renderOutput(dataTable, element);\n",
              "          const docLink = document.createElement('div');\n",
              "          docLink.innerHTML = docLinkHtml;\n",
              "          element.appendChild(docLink);\n",
              "        }\n",
              "      </script>\n",
              "    </div>\n",
              "  </div>\n",
              "  "
            ]
          },
          "metadata": {},
          "execution_count": 6
        }
      ],
      "source": [
        "epa_data.describe()"
      ],
      "id": "13f1c1dd-5637-4726-8fa0-2fbd838e4afa"
    },
    {
      "cell_type": "markdown",
      "metadata": {
        "id": "PV0GCfM9pJqw"
      },
      "source": [
        "> the mean value for the \"aqi\" column is 6.757692307692308. This mean value is greater than the median (50th percentile) value of 5, which suggests that the \"aqi\" column is positively skewed, meaning it has a few high values that are pulling the mean up. This can also be inferred from the fact that the maximum value in the column is 50, which is much larger than the 75th percentile value of 9.\n",
        "\n",
        "> Additionally, the standard deviation of the \"aqi\" column is 7.061707, which indicates that the values in the column are spread out over a wide range, with some values being much larger than the mean and some values being much smaller than the mean. \n",
        "\n",
        "> Overall, these descriptive statistics suggest that the \"aqi\" column in the dataset has a wide range of values, with some large values that are pulling the mean up and causing the distribution to be positively skewed."
      ],
      "id": "PV0GCfM9pJqw"
    },
    {
      "cell_type": "markdown",
      "metadata": {
        "id": "a70475eb-d3a6-42e4-8b71-a49b5a1aa0db"
      },
      "source": [
        "**Question:** Based on the table of descriptive statistics, what do you notice about the count value for the `aqi` column?"
      ],
      "id": "a70475eb-d3a6-42e4-8b71-a49b5a1aa0db"
    },
    {
      "cell_type": "markdown",
      "metadata": {
        "id": "ZJddhXIUpCwz"
      },
      "source": [
        "> There are 260 values in the data set and there are no missing values. This means there are 260 values in each column."
      ],
      "id": "ZJddhXIUpCwz"
    },
    {
      "cell_type": "markdown",
      "metadata": {
        "id": "c7a59d04-61f1-45e5-946f-eaed074988cf"
      },
      "source": [
        "**Question:** What do you notice about the 25th percentile for the `aqi` column?\n",
        "\n",
        "> This is an important measure for understanding where the aqi values lie.The 25th percentile for the aqi column is 2. This means that 25% of the aqi values in the data are below 2 parts per million."
      ],
      "id": "c7a59d04-61f1-45e5-946f-eaed074988cf"
    },
    {
      "cell_type": "markdown",
      "metadata": {
        "id": "245a9299-23ea-4def-b968-b26be1da3a74"
      },
      "source": [
        "**Question:** What do you notice about the 75th percentile for the `aqi` column?\n",
        "\n",
        "> This is another important measure for understanding where the aqi values lie. The 25th percentile for the aqi column is 9. This means that 75% of the aqi values in the data are below 9 parts per million. "
      ],
      "id": "245a9299-23ea-4def-b968-b26be1da3a74"
    },
    {
      "cell_type": "markdown",
      "metadata": {
        "id": "ZfvOKy7F7SOA"
      },
      "source": [
        "## **Step 3: Statistical tests** "
      ],
      "id": "ZfvOKy7F7SOA"
    },
    {
      "cell_type": "markdown",
      "metadata": {
        "id": "5464fa18-f969-4e1e-8539-9b2d9a11766d",
        "tags": []
      },
      "source": [
        "Next, get some descriptive statistics about the states in the data."
      ],
      "id": "5464fa18-f969-4e1e-8539-9b2d9a11766d"
    },
    {
      "cell_type": "code",
      "execution_count": null,
      "metadata": {
        "id": "678346a1-bc1a-40be-850a-c03488970604",
        "outputId": "a73f8470-37e0-4785-f3af-da878f14e4e7",
        "colab": {
          "base_uri": "https://localhost:8080/"
        }
      },
      "outputs": [
        {
          "output_type": "execute_result",
          "data": {
            "text/plain": [
              "count            260\n",
              "unique            52\n",
              "top       California\n",
              "freq              66\n",
              "Name: state_name, dtype: object"
            ]
          },
          "metadata": {},
          "execution_count": 11
        }
      ],
      "source": [
        "# Get descriptive stats about the states in the data.\n",
        "\n",
        "epa_data['state_name'].describe()"
      ],
      "id": "678346a1-bc1a-40be-850a-c03488970604"
    },
    {
      "cell_type": "markdown",
      "metadata": {
        "id": "d6f10268-bf06-471f-8e6e-41c30a8e3e2a",
        "tags": []
      },
      "source": [
        "**Question:** What do you notice while reviewing the descriptive statistics about the states in the data? \n",
        "\n"
      ],
      "id": "d6f10268-bf06-471f-8e6e-41c30a8e3e2a"
    },
    {
      "cell_type": "markdown",
      "metadata": {
        "id": "Vbu9rG78pGY1"
      },
      "source": [
        "> There are 260 state values, and 52 of them are unique. California is the most commonly occurring state in the data, with a frequency of 66. (In other words, 66 entries in the data correspond to aqi measurements taken in California.)"
      ],
      "id": "Vbu9rG78pGY1"
    },
    {
      "cell_type": "markdown",
      "metadata": {
        "id": "ArTZls9y8amg"
      },
      "source": [
        "## **Step 4. Results and evaluation**"
      ],
      "id": "ArTZls9y8amg"
    },
    {
      "cell_type": "markdown",
      "metadata": {
        "id": "8c37014f-2751-4f65-b145-c63aa3a82e9a",
        "tags": []
      },
      "source": [
        "Now, compute the mean value from the `aqi` column."
      ],
      "id": "8c37014f-2751-4f65-b145-c63aa3a82e9a"
    },
    {
      "cell_type": "code",
      "execution_count": null,
      "metadata": {
        "id": "df5f18bc-9d4b-4625-9b6f-01a6323b8b89",
        "outputId": "142697ed-2c8c-46d6-ed3d-bcc65ea769b2",
        "colab": {
          "base_uri": "https://localhost:8080/"
        }
      },
      "outputs": [
        {
          "output_type": "stream",
          "name": "stdout",
          "text": [
            "Mean aqi value:  6.757692307692308\n"
          ]
        }
      ],
      "source": [
        "# Compute the mean value from the aqi column.\n",
        "\n",
        "aqi_mean = np.mean(epa_data['aqi'])\n",
        "print(\"Mean aqi value: \", aqi_mean)"
      ],
      "id": "df5f18bc-9d4b-4625-9b6f-01a6323b8b89"
    },
    {
      "cell_type": "markdown",
      "metadata": {
        "id": "4552de4a-70d5-4862-bff8-e08b8a812d98"
      },
      "source": [
        "**Question:** What do you notice about the mean value from the `aqi` column?\n",
        "\n",
        "This is an important measure, as it tells you what the average air quality is based on the data."
      ],
      "id": "4552de4a-70d5-4862-bff8-e08b8a812d98"
    },
    {
      "cell_type": "markdown",
      "source": [
        "* The mean value for the aqi column is approximately 6.76 (rounding to 2 decimal places here). This means that the average aqi from the data is approximately 6.76 parts per million."
      ],
      "metadata": {
        "id": "OzqrjSFrJRR7"
      },
      "id": "OzqrjSFrJRR7"
    },
    {
      "cell_type": "markdown",
      "metadata": {
        "id": "573d29cd-0ea9-4c96-80ea-c02144a155e9",
        "tags": []
      },
      "source": [
        "Next, compute the median value from the aqi column."
      ],
      "id": "573d29cd-0ea9-4c96-80ea-c02144a155e9"
    },
    {
      "cell_type": "code",
      "execution_count": null,
      "metadata": {
        "id": "12da2095-441f-48f5-b8eb-1c7ae76edc9e",
        "outputId": "dab2c1ed-8a36-4129-b4f9-12525062b46e",
        "colab": {
          "base_uri": "https://localhost:8080/"
        }
      },
      "outputs": [
        {
          "output_type": "stream",
          "name": "stdout",
          "text": [
            "Median aqi value:  5.0\n"
          ]
        }
      ],
      "source": [
        "# Compute the median value from the aqi column.\n",
        "\n",
        "### YOUR CODE HERE\n",
        "aqi_median = np.median(epa_data['aqi'])\n",
        "print(\"Median aqi value: \", aqi_median)"
      ],
      "id": "12da2095-441f-48f5-b8eb-1c7ae76edc9e"
    },
    {
      "cell_type": "markdown",
      "metadata": {
        "id": "be75aa7d-a91c-4e3b-8eda-e2e3fe89c8d0"
      },
      "source": [
        "**Question:** What do you notice about the median value from the `aqi` column?\n",
        "\n",
        "This is an important measure for understanding the central location of the data."
      ],
      "id": "be75aa7d-a91c-4e3b-8eda-e2e3fe89c8d0"
    },
    {
      "cell_type": "markdown",
      "metadata": {
        "id": "LCW6pR6fpKdR"
      },
      "source": [
        "* The median value for the aqi column is 5.0. This means that half of the aqi values in the data are below 5 parts per million."
      ],
      "id": "LCW6pR6fpKdR"
    },
    {
      "cell_type": "markdown",
      "metadata": {
        "id": "4f8cdeda-be0c-4a18-9a33-0a16c91f08fc",
        "tags": []
      },
      "source": [
        "Next, identify the minimum value from the `aqi` column."
      ],
      "id": "4f8cdeda-be0c-4a18-9a33-0a16c91f08fc"
    },
    {
      "cell_type": "code",
      "execution_count": null,
      "metadata": {
        "id": "bb3f1739-89aa-442a-8ddb-6c2d381243f3",
        "outputId": "1b111eb7-a7a4-4028-86f7-a1de3259b9ce",
        "colab": {
          "base_uri": "https://localhost:8080/"
        }
      },
      "outputs": [
        {
          "output_type": "stream",
          "name": "stdout",
          "text": [
            "Min aqi value:  0\n"
          ]
        }
      ],
      "source": [
        "# Identify the minimum value from the aqi column.\n",
        "\n",
        "aqi_min = np.min(epa_data['aqi'])\n",
        "print(\"Min aqi value: \", aqi_min)"
      ],
      "id": "bb3f1739-89aa-442a-8ddb-6c2d381243f3"
    },
    {
      "cell_type": "markdown",
      "metadata": {
        "id": "59335267-2025-4013-92de-fec720576263"
      },
      "source": [
        "**Question:** What do you notice about the minimum value from the `aqi` column?\n",
        "\n",
        "This is an important measure, as it tell you the best air quality observed in the data."
      ],
      "id": "59335267-2025-4013-92de-fec720576263"
    },
    {
      "cell_type": "markdown",
      "metadata": {
        "id": "0IbKLA8gpLVR"
      },
      "source": [
        "* The minimum value for the aqi column is 0. This means that the smallest aqi value in the data is 0 parts per million. It could also mean this  is an outlier that we need to see how many loactaions have this. Also it is highly unlike to have an aqi of zero"
      ],
      "id": "0IbKLA8gpLVR"
    },
    {
      "cell_type": "markdown",
      "metadata": {
        "id": "5864cf7b-af15-4cd9-8648-903c882e8e8f",
        "tags": []
      },
      "source": [
        "Now, identify the maximum value from the `aqi` column."
      ],
      "id": "5864cf7b-af15-4cd9-8648-903c882e8e8f"
    },
    {
      "cell_type": "code",
      "execution_count": null,
      "metadata": {
        "id": "ce9670ac-1fb3-48d1-ac92-f04f73ef0e37",
        "outputId": "da13627f-575c-49cf-e35e-fb07926a7648",
        "colab": {
          "base_uri": "https://localhost:8080/"
        }
      },
      "outputs": [
        {
          "output_type": "stream",
          "name": "stdout",
          "text": [
            "Max aqi value:  50\n"
          ]
        }
      ],
      "source": [
        "# Identify the maximum value from the aqi column.\n",
        "\n",
        "aqi_max = np.max(epa_data['aqi'])\n",
        "print(\"Max aqi value: \", aqi_max)"
      ],
      "id": "ce9670ac-1fb3-48d1-ac92-f04f73ef0e37"
    },
    {
      "cell_type": "markdown",
      "metadata": {
        "id": "b66e1d7d-a90e-4aff-b8da-3725c4f15c26"
      },
      "source": [
        "**Question:** What do you notice about the maximum value from the `aqi` column?\n",
        "\n",
        "This is an important measure, as it tells you which value in the data corresponds to the worst air quality observed in the data."
      ],
      "id": "b66e1d7d-a90e-4aff-b8da-3725c4f15c26"
    },
    {
      "cell_type": "markdown",
      "metadata": {
        "id": "_BOdBpYupMNh"
      },
      "source": [
        "* The maximum value for the aqi column is 50. This means that the largest aqi value in the data is 50 parts per million."
      ],
      "id": "_BOdBpYupMNh"
    },
    {
      "cell_type": "markdown",
      "metadata": {
        "id": "0f2b502c-55bd-4567-b602-129d5b682ea4",
        "tags": []
      },
      "source": [
        "Now, compute the standard deviation for the `aqi` column.\n",
        "\n",
        "By default, the `numpy` library uses 0 as the Delta Degrees of Freedom, while `pandas` library uses 1. To get the same value for standard deviation using either library, specify the `ddof` parameter to 1 when calculating standard deviation."
      ],
      "id": "0f2b502c-55bd-4567-b602-129d5b682ea4"
    },
    {
      "cell_type": "code",
      "execution_count": null,
      "metadata": {
        "id": "4caba3ad-6e7c-416a-a062-39a6af9f1f00",
        "outputId": "d0bcc105-7929-4fcd-b2a1-bdb825f4af86"
      },
      "outputs": [
        {
          "name": "stdout",
          "output_type": "stream",
          "text": [
            "Standard deviation of AQI values: 7.0617066788207215\n"
          ]
        }
      ],
      "source": [
        "# Compute the standard deviation for the aqi column.\n",
        "\n",
        "aqi_std = np.std(epa_data[\"aqi\"], ddof=1)\n",
        "print(\"Standard deviation of AQI values:\", aqi_std)"
      ],
      "id": "4caba3ad-6e7c-416a-a062-39a6af9f1f00"
    },
    {
      "cell_type": "markdown",
      "metadata": {
        "id": "890f18c1-97cc-4e92-8860-1e4ce3213e2e"
      },
      "source": [
        "**Question:** What do you notice about the standard deviation for the `aqi` column? \n",
        "\n",
        "This is an important measure of how spread out the aqi values are."
      ],
      "id": "890f18c1-97cc-4e92-8860-1e4ce3213e2e"
    },
    {
      "cell_type": "markdown",
      "metadata": {
        "id": "FWASCwOQZsgP"
      },
      "source": [
        ">  The standard deviation for the aqi column is approximately 7.05 (rounding to 2 decimal places here). This is a measure of how spread out the aqi values are in the data"
      ],
      "id": "FWASCwOQZsgP"
    },
    {
      "cell_type": "markdown",
      "metadata": {
        "id": "c77e7f0f-d2b9-4464-8a7c-9575d1e1ef9f"
      },
      "source": [
        "## **Considerations**\n"
      ],
      "id": "c77e7f0f-d2b9-4464-8a7c-9575d1e1ef9f"
    },
    {
      "cell_type": "markdown",
      "metadata": {
        "id": "eptkD7BmYw0h"
      },
      "source": [
        "**What are some key takeaways that you learned during this lab?**"
      ],
      "id": "eptkD7BmYw0h"
    },
    {
      "cell_type": "markdown",
      "metadata": {
        "id": "LmFmOwT7Yzlw"
      },
      "source": [
        ">  The describe() function from pandas generates a table of descriptive statistics about numerical or categorical columns. The mean(), median(), min(), max(), and std() functions from numpy are useful for finding individual statistics about numerical data."
      ],
      "id": "LmFmOwT7Yzlw"
    },
    {
      "cell_type": "markdown",
      "metadata": {
        "id": "P_B0fXmoYz_g"
      },
      "source": [
        "**How would you present your findings from this lab to others? Consider the following relevant points noted by AirNow.gov as you respond:**\n",
        "- \"AQI values at or below 100 are generally thought of as satisfactory. When AQI values are above 100, air quality is considered to be unhealthy—at first for certain sensitive groups of people, then for everyone as AQI values increase.\"\n",
        "- \"An AQI of 100 for carbon monoxide corresponds to a level of 9 parts per million.\""
      ],
      "id": "P_B0fXmoYz_g"
    },
    {
      "cell_type": "markdown",
      "metadata": {
        "id": "gfnZAHZ4Y7a_"
      },
      "source": [
        "> The average AQI value in the data is safe with respect to carbon monoxide, at approximately 6.76 parts per million. Additionally, 75% of AQI values fall below the standard of 9 parts per million for healthy air quality levels in terms of carbon monoxide. To identify regions with unhealthy air quality, further materials and research are needed. Collecting more data from other states could help with state-level analysis."
      ],
      "id": "gfnZAHZ4Y7a_"
    },
    {
      "cell_type": "markdown",
      "metadata": {
        "id": "B9NTCauFY7xU"
      },
      "source": [
        "**What summary would you provide to stakeholders? Use the same information provided previously from AirNow.gov as you respond.**"
      ],
      "id": "B9NTCauFY7xU"
    },
    {
      "cell_type": "markdown",
      "metadata": {
        "id": "BO_KrnISY9ts"
      },
      "source": [
        "> 75% of the AQI values in the data are below 9 parts per million, which is the standard for healthy air quality levels in terms of carbon monoxide.\n",
        "further investigation of the regions with unhealthy levels of carbon monoxide in order to learn how to improve the conditions."
      ],
      "id": "BO_KrnISY9ts"
    },
    {
      "cell_type": "markdown",
      "source": [
        "## Visulizations "
      ],
      "metadata": {
        "id": "eJwoK7yfI9OA"
      },
      "id": "eJwoK7yfI9OA"
    },
    {
      "cell_type": "markdown",
      "source": [
        "I want to look at the top 10 states with the hightest aqi mean. The following 3 code block do this \n",
        "* mean_aqi_by_state calculates the mean AQI by state and sorts the results in descending order. \n",
        "* top_10_states selects the top 10 states with the highest mean AQI values and converts them to a list. \n",
        "* epa_data_top_10 selects only the rows from epa_data where the state is in top_10_states. \n",
        "* Finally, the boxplot is created using epa_data_top_10 and the title is updated to reflect the fact that the plot shows the top 10 states."
      ],
      "metadata": {
        "id": "fytJUYcOJkWo"
      },
      "id": "fytJUYcOJkWo"
    },
    {
      "cell_type": "code",
      "source": [
        "mean_aqi_by_state = epa_data.groupby('state_name')['aqi'].mean().sort_values(ascending=False)\n",
        "mean_aqi_by_state.head()"
      ],
      "metadata": {
        "colab": {
          "base_uri": "https://localhost:8080/"
        },
        "id": "KdA8rpipJIiE",
        "outputId": "c638ad65-9964-4570-8e69-4ff8f7ed84f3"
      },
      "id": "KdA8rpipJIiE",
      "execution_count": null,
      "outputs": [
        {
          "output_type": "execute_result",
          "data": {
            "text/plain": [
              "state_name\n",
              "Nevada        18.500000\n",
              "Arizona       15.214286\n",
              "California    12.121212\n",
              "Idaho         10.000000\n",
              "Utah           9.000000\n",
              "Name: aqi, dtype: float64"
            ]
          },
          "metadata": {},
          "execution_count": 6
        }
      ]
    },
    {
      "cell_type": "code",
      "source": [
        "# Select the top 10 states by mean AQI\n",
        "top_10_states = mean_aqi_by_state.head(10).index.tolist()\n",
        "epa_data_top_10 = epa_data.loc[epa_data['state_name'].isin(top_10_states)]\n",
        "top_10_states"
      ],
      "metadata": {
        "colab": {
          "base_uri": "https://localhost:8080/"
        },
        "id": "C157b31HJxKn",
        "outputId": "191278b4-d79e-470f-b450-83870ebf295a"
      },
      "id": "C157b31HJxKn",
      "execution_count": null,
      "outputs": [
        {
          "output_type": "execute_result",
          "data": {
            "text/plain": [
              "['Nevada',\n",
              " 'Arizona',\n",
              " 'California',\n",
              " 'Idaho',\n",
              " 'Utah',\n",
              " 'Alaska',\n",
              " 'Michigan',\n",
              " 'Nebraska',\n",
              " 'Hawaii',\n",
              " 'New Mexico']"
            ]
          },
          "metadata": {},
          "execution_count": 9
        }
      ]
    },
    {
      "cell_type": "code",
      "source": [
        "# Create the boxplot for the top 10 states\n",
        "sns.boxplot(x='state_name', y='aqi', data=epa_data_top_10)\n",
        "plt.xticks(rotation=90)\n",
        "plt.title('Distribution of AQI by State (Top 10)')\n",
        "plt.show()"
      ],
      "metadata": {
        "colab": {
          "base_uri": "https://localhost:8080/",
          "height": 541
        },
        "id": "F5A84UMtOGZs",
        "outputId": "394630ad-95e5-4640-b3d9-411658264cb5"
      },
      "id": "F5A84UMtOGZs",
      "execution_count": null,
      "outputs": [
        {
          "output_type": "display_data",
          "data": {
            "text/plain": [
              "<Figure size 640x480 with 1 Axes>"
            ],
            "image/png": "[encoded data removed]"
          },
          "metadata": {}
        }
      ]
    },
    {
      "cell_type": "code",
      "source": [
        "# Create a histogram of AQI for the top 10 states\n",
        "sns.histplot(data=epa_data_top_10, x='aqi', hue='state_name', multiple='stack', bins=30)\n",
        "plt.title('Distribution of AQI by State (Top 10)')\n",
        "plt.show()"
      ],
      "metadata": {
        "colab": {
          "base_uri": "https://localhost:8080/",
          "height": 472
        },
        "id": "R2dySqLnOTmi",
        "outputId": "b520d9d7-029a-45af-d24b-2d7e29c2a4b8"
      },
      "id": "R2dySqLnOTmi",
      "execution_count": null,
      "outputs": [
        {
          "output_type": "display_data",
          "data": {
            "text/plain": [
              "<Figure size 640x480 with 1 Axes>"
            ],
            "image/png": "[encoded data removed]"
          },
          "metadata": {}
        }
      ]
    },
    {
      "cell_type": "markdown",
      "metadata": {
        "id": "OPcCpjDLuHaW"
      },
      "source": [
        "**References**\n",
        "\n",
        "[Air Quality Index - A Guide to Air Quality and Your Health](https://www.airnow.gov/sites/default/files/2018-04/aqi_brochure_02_14_0.pdf). (2014,February)\n",
        "\n",
        "[Numpy.Std — NumPy v1.23 Manual](https://numpy.org/doc/stable/reference/generated/numpy.std.html)\n",
        "\n",
        "US EPA, OAR. (2014, 8 July).[*Air Data: Air Quality Data Collected at Outdoor Monitors Across the US*](https://www.epa.gov/outdoor-air-quality-data). "
      ],
      "id": "OPcCpjDLuHaW"
    }
  ],
  "metadata": {
    "colab": {
      "provenance": [],
      "include_colab_link": true
    },
    "kernelspec": {
      "display_name": "Python 3",
      "language": "python",
      "name": "python3"
    },
    "language_info": {
      "codemirror_mode": {
        "name": "ipython",
        "version": 3
      },
      "file_extension": ".py",
      "mimetype": "text/x-python",
      "name": "python",
      "nbconvert_exporter": "python",
      "pygments_lexer": "ipython3",
      "version": "3.7.6"
    },
    "toc-autonumbering": false,
    "toc-showtags": false
  },
  "nbformat": 4,
  "nbformat_minor": 5
}